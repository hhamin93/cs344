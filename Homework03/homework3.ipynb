{
 "cells": [
  {
   "cell_type": "markdown",
   "metadata": {
    "collapsed": true
   },
   "source": [
    "# Homework 3"
   ]
  },
  {
   "cell_type": "markdown",
   "metadata": {},
   "source": [
    "## 1.  Information Gain of Price\n",
    "\n",
    "Entropy(wait) = -( P(yes) log2(P(yes)) + (1 - P(yes)) log2( 1 - P(yes))) = -( 6/12 log2(6/12) + 6/12 log2(6/12)) = 1\n",
    "\n",
    "Remainder(Price) = ( 7/12 B(3/7) + 2/12 B(2/2) + 3/12 B(1/3) ) = ( 7/12 .9852 + 2/12 0 + 3/12 .9182 ) \n",
    "= .804266 \n",
    "\n",
    "Information Gain(Price) = Entropy(willWait) - Remainder(Price) = 1 - .804266 = .1957335 \n",
    "\n",
    "Patrons give more information than price and price give more information than type."
   ]
  },
  {
   "cell_type": "markdown",
   "source": [
    "## 2.\n",
    "It is not possible to build XOR function in one layer but with multiple layers, it is possible. A combination of NAND, \n",
    "OR, and AND functions will create XOR function."
   ],
   "metadata": {
    "collapsed": false
   }
  },
  {
   "cell_type": "markdown",
   "source": [
    "![XOR.jpg](https://upload.wikimedia.org/wikipedia/commons/thumb/e/ed/3_gate_XOR.svg/1920px-3_gate_XOR.svg.png)"
   ],
   "metadata": {
    "collapsed": false
   }
  },
  {
   "cell_type": "markdown",
   "source": [
    "## 3."
   ],
   "metadata": {
    "collapsed": false
   }
  },
  {
   "cell_type": "code",
   "execution_count": 7,
   "outputs": [],
   "source": [
    "# print dimensions \n",
    "def printDataStructureInfo(input):\n",
    "    print(\n",
    "        'count: {} \\\n",
    "        \\ndimensions: {} \\\n",
    "        \\nshape: {} \\\n",
    "        \\n'.format(\n",
    "            len(input),\n",
    "            input.ndim,\n",
    "            input.shape\n",
    "        ),\n",
    "    )\n",
    "\n",
    "\n"
   ],
   "metadata": {
    "collapsed": false,
    "pycharm": {
     "name": "#%%\n",
     "is_executing": false
    }
   }
  },
  {
   "cell_type": "code",
   "execution_count": 8,
   "outputs": [
    {
     "name": "stdout",
     "text": [
      "Boston Housing\n",
      "count: 506         \n",
      "dimensions: 2         \n",
      "shape: (506, 14)         \n",
      "\n",
      "trainging_target\n",
      "count: 328         \n",
      "dimensions: 1         \n",
      "shape: (328,)         \n",
      "\n",
      "training_data\n",
      "count: 328         \n",
      "dimensions: 2         \n",
      "shape: (328, 13)         \n",
      "\n",
      "validate\n",
      "count: 76         \n",
      "dimensions: 2         \n",
      "shape: (76, 13)         \n",
      "\n",
      "testing\n",
      "count: 102         \n",
      "dimensions: 2         \n",
      "shape: (102, 13)         \n",
      "\n"
     ],
     "output_type": "stream"
    }
   ],
   "source": [
    "import numpy as np\n",
    "from keras.datasets import boston_housing\n",
    "from keras import models\n",
    "from keras import layers\n",
    "import pandas as pd\n",
    "\n",
    "df = pd.read_csv(\"https://raw.githubusercontent.com/selva86/datasets/master/BostonHousing.csv\")\n",
    "\n",
    "print(\"Boston Housing\")\n",
    "printDataStructureInfo(df)\n",
    "\n",
    "training, validate, testing = np.split(df.sample(frac=1), [int(.65*len(df)), int(.80*len(df))])\n",
    "\n",
    "# split target data\n",
    "training_data = training.values[:,0:len(df.columns)-1]\n",
    "\n",
    "validate_data = validate.values[:,0:len(df.columns)-1]\n",
    "\n",
    "testing_data = testing.values[:,0:len(df.columns)-1]\n",
    "\n",
    "training_targets = training.values[:,len(df.columns)-1]\n",
    "\n",
    "validate_targets = validate.values[:,len(df.columns)-1]\n",
    "\n",
    "testing_targets = testing.values[:,len(df.columns)-1]\n",
    "\n",
    "# Final part of question a in demonstrating printing works\n",
    "print(\"trainging_target\")\n",
    "printDataStructureInfo(training_targets)\n",
    "\n",
    "print(\"training_data\")\n",
    "printDataStructureInfo(training_data)\n",
    "\n",
    "print(\"validate\")\n",
    "printDataStructureInfo(validate_data)\n",
    "\n",
    "print(\"testing\")\n",
    "printDataStructureInfo(testing_data)"
   ],
   "metadata": {
    "collapsed": false,
    "pycharm": {
     "name": "#%%\n",
     "is_executing": false
    }
   }
  },
  {
   "cell_type": "markdown",
   "source": [
    "One possilbe feature could be to combine property age with lower status. This would make sense as the \n",
    "older the house is the poorer the one in it will be. "
   ],
   "metadata": {
    "collapsed": false
   }
  },
  {
   "cell_type": "code",
   "execution_count": 9,
   "outputs": [
    {
     "name": "stdout",
     "text": [
      "      crim    zn  indus  chas    nox     rm   age     dis  rad  tax  ptratio  \\\n",
      "0  0.00632  18.0   2.31     0  0.538  6.575  65.2  4.0900    1  296     15.3   \n",
      "1  0.02731   0.0   7.07     0  0.469  6.421  78.9  4.9671    2  242     17.8   \n",
      "2  0.02729   0.0   7.07     0  0.469  7.185  61.1  4.9671    2  242     17.8   \n",
      "3  0.03237   0.0   2.18     0  0.458  6.998  45.8  6.0622    3  222     18.7   \n",
      "4  0.06905   0.0   2.18     0  0.458  7.147  54.2  6.0622    3  222     18.7   \n",
      "\n",
      "        b  lstat  medv  percent_lower_class_per_percent_old_house  \n",
      "0  396.90   4.98  24.0                                   0.076380  \n",
      "1  396.90   9.14  21.6                                   0.115843  \n",
      "2  392.83   4.03  34.7                                   0.065957  \n",
      "3  394.63   2.94  33.4                                   0.064192  \n",
      "4  396.90   5.33  36.2                                   0.098339  \n"
     ],
     "output_type": "stream"
    }
   ],
   "source": [
    "df[\"%_lowerClass/_%_olderHouse\"] = (df[\"lstat\"] / df[\"age\"])\n",
    "# show that it was added\n",
    "print(df.head())"
   ],
   "metadata": {
    "collapsed": false,
    "pycharm": {
     "name": "#%%\n",
     "is_executing": false
    }
   }
  }
 ],
 "metadata": {
  "kernelspec": {
   "display_name": "Python 3",
   "language": "python",
   "name": "python3"
  },
  "language_info": {
   "codemirror_mode": {
    "name": "ipython",
    "version": 3
   },
   "file_extension": ".py",
   "mimetype": "text/x-python",
   "name": "python",
   "nbconvert_exporter": "python",
   "pygments_lexer": "ipython3",
   "version": "3.6.6"
  },
  "pycharm": {
   "stem_cell": {
    "cell_type": "raw",
    "source": [],
    "metadata": {
     "collapsed": false
    }
   }
  }
 },
 "nbformat": 4,
 "nbformat_minor": 1
}