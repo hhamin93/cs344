{
 "cells": [
  {
   "cell_type": "markdown",
   "metadata": {
    "collapsed": true
   },
   "source": [
    "# Proposal Draft "
   ]
  },
  {
   "cell_type": "markdown",
   "metadata": {
    "pycharm": {
     "name": "#%% md\n"
    }
   },
   "source": [
    "For my project, I would like to create a RNN deep learning bot that will restores black and white\n",
    " pictures into colored picture. Before the colored pictures were invented, all photos were taken in \n",
    " black and white and we have less vivid image of what the pictures and their subjects looked like in\n",
    "  real life. I want my bot to attempt to restore natural and correct colors for the older images. \n",
    "  By the end of the training, I look forward to consistence outcomes when given one photo rather \n",
    "  than randomized color outputs. \n",
    "I will have to divide up the work into four components: a low-level features network, a mid-level features network, \n",
    "a global features network, and a colorization network. There has been research on the subject and \n",
    "I will have to research on the implication methods to put this into work.\n",
    "\n",
    "I first plan to train my bot, feeding it with the black and white version of the photos from google photos. \n",
    "I will first have to convert the photos into black and white and give the original photos as the solution. \n",
    "The challenge here, I think will be time taken to convert the original photos into black and white. \n",
    "The best case would be to find a dataset that contains pairs of original and black and white version pictures.\n"
   ]
  }
 ],
 "metadata": {
  "kernelspec": {
   "display_name": "Python 3",
   "language": "python",
   "name": "python3"
  },
  "language_info": {
   "codemirror_mode": {
    "name": "ipython",
    "version": 3
   },
   "file_extension": ".py",
   "mimetype": "text/x-python",
   "name": "python",
   "nbconvert_exporter": "python",
   "pygments_lexer": "ipython3",
   "version": "3.6.6"
  },
  "pycharm": {
   "stem_cell": {
    "cell_type": "raw",
    "source": [],
    "metadata": {
     "collapsed": false
    }
   }
  }
 },
 "nbformat": 4,
 "nbformat_minor": 1
}