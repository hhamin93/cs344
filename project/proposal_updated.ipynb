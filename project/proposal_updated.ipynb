{
 "cells": [
  {
   "cell_type": "markdown",
   "source": [
    "# Proposal Update\n",
    "\n",
    "## Vision\n",
    "\n",
    "My project will allow me to restore the black and white photos of the old days into colors. This project will allow us\n",
    "to have better understanding of what the lives of the older generation have actually looked like. We will be able to \n",
    "see the faces of our grandParents in their youth in color. We will be able to see how the war zone pictures actually\n",
    "looked like in colors. Giving colors into black and whit pictures of the older generations will allow us to peek at\n",
    "their lives under much more vivid light. \n",
    "\n",
    "## Preparing Data and How I plan to make this work.\n",
    "\n",
    "to make the project work, it will need a large amount of data to learn coloring. I plan to use random pictures from \n",
    "google photos using google API. I will download smaller sized color images, use a program to convert them into black \n",
    "and white images and feed the black and white pictures and the solution pictures to the project. \n",
    "I will train the project with various kinds of pictures since a picture dataset of certain type will bound to have\n",
    "restricted number of colors and will fail to color the pictures of different type. For an example, a dataset of mountains\n",
    "will give bias to the program and the project will not be able to color pictures of sky or sea properly.\n",
    "\n",
    "## Results\n",
    "\n",
    "I hope for a consistency in the resulting pictures. For an example, a black and white picture of a red house will always\n",
    "have to outputted either in red or some other colors. It must not produce a red house once than a blue house next. \n",
    "\n",
    "\n",
    "I"
   ],
   "metadata": {
    "collapsed": false,
    "pycharm": {
     "name": "#%% md\n"
    }
   }
  }
 ],
 "metadata": {
  "kernelspec": {
   "display_name": "Python 3",
   "language": "python",
   "name": "python3"
  },
  "language_info": {
   "codemirror_mode": {
    "name": "ipython",
    "version": 2
   },
   "file_extension": ".py",
   "mimetype": "text/x-python",
   "name": "python",
   "nbconvert_exporter": "python",
   "pygments_lexer": "ipython2",
   "version": "2.7.6"
  },
  "pycharm": {
   "stem_cell": {
    "cell_type": "raw",
    "source": [
     "\n",
     "\n"
    ],
    "metadata": {
     "collapsed": false
    }
   }
  }
 },
 "nbformat": 4,
 "nbformat_minor": 0
}