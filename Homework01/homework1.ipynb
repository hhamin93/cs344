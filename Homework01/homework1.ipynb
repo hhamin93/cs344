{
 "cells": [
  {
   "cell_type": "markdown",
   "metadata": {
    "collapsed": true
   },
   "source": [
    "Assignment: Homework 1 - Problem Solving\\ Name: Hamin Hong\n",
    "Instructor: Keith Vander Linden\n",
    "Course: CS 344\n"
   ]
  },
  {
   "cell_type": "markdown",
   "metadata": {},
   "source": [
    "## 1.1\n",
    "Using introspection alone to understand human cognitive processes would not be wise since humans do not actually think \n",
    "much about what they are doing. Most of our works and thoughts are done unconsciously that to understand something that\n",
    "is done unconsciously and trying to form a model out of it would be unwise. "
   ]
  },
  {
   "cell_type": "markdown",
   "metadata": {},
   "source": [
    "## 1.2\n",
    "\n",
    "In my formulation each state is a list of cities, a path the salesman would go along.\n",
    "Path should always have same starting and end points. The actions will be to swap two neighboring in the path cities in \n",
    "order. Using search.py graph's get() function, I will be able to calculate the distance and multiply that by -1.\n"
   ]
  },
  {
   "cell_type": "code",
   "execution_count": 3,
   "metadata": {
    "pycharm": {
     "is_executing": false
    }
   },
   "outputs": [],
   "source": [
    "from search import Problem, hill_climbing, simulated_annealing, exp_schedule, RandomGraph\n",
    "import random\n",
    "\n",
    "class TSP(Problem):\n",
    "    \n",
    "    def __init__(self, iPath, cGraoh):\n",
    "        self.initial = iPath\n",
    "        self.cGraoh = cGraoh\n",
    "\n",
    "    def actions(self, state):\n",
    "        actions = []\n",
    "        for i in range(1, len(state)-2):\n",
    "            newPath = state[:]\n",
    "            newPath[i], newPath[i+1] = newPath[i+1], newPath[i]\n",
    "            actions.append(newPath)\n",
    "        return actions\n",
    "\n",
    "    def result(self, state, move):\n",
    "        return move\n",
    "\n",
    "    def value(self, state):\n",
    "        \n",
    "        value = 0;\n",
    "        for i in range(len(state)-1):\n",
    "            value = value + cGraoh.get(state[i],state[i+1])\n",
    "        value = value * -1\n",
    "            \n",
    "        return value"
   ]
  },
  {
   "cell_type": "code",
   "execution_count": 4,
   "metadata": {
    "pycharm": {
     "is_executing": false
    }
   },
   "outputs": [
    {
     "name": "stdout",
     "text": [
      "Cities:\t\t20\n",
      "Starting path:\t['14', '5', '4', '0', '9', '7', '18', '2', '11', '8', '10', '13', '15', '1', '12', '6', '3', '16', '17', '19', '14']\n",
      "\n",
      "Hill-climbing:\n",
      "\tSolution:\t['14', '5', '4', '0', '9', '7', '18', '11', '2', '1', '8', '10', '13', '15', '12', '6', '3', '16', '17', '19', '14']\n",
      "\tValue:\t\t-101010\n",
      "\n",
      "Simulated annealing:\n",
      "\tSolution:\t['14', '5', '4', '0', '9', '7', '18', '11', '10', '2', '8', '13', '15', '12', '1', '6', '3', '16', '17', '19', '14']\n",
      "\tValue:\t\t-112266\n"
     ],
     "output_type": "stream"
    }
   ],
   "source": [
    "citiyNum = 20\n",
    "print('Cities:' + str(citiyNum))\n",
    "\n",
    "cityList = []\n",
    "for i in range(citiyNum):\n",
    "    cityList.append(str(i))\n",
    "\n",
    "cGraoh = RandomGraph(cityList, citiyNum-1, 10000, 10000)\n",
    "\n",
    "path = random.sample(cGraoh.nodes(), len(cGraoh.nodes()))\n",
    "\n",
    "path.append(path[0])\n",
    "print('Starting path:' + str(path))\n",
    "\n",
    "p = TSP(path,cGraoh)\n",
    "\n",
    "hill_solution = hill_climbing(p)\n",
    "print('\\nHill-climbing:')\n",
    "print('\\tSolution:\\t' + str(hill_solution))\n",
    "print('\\tValue:\\t\\t' + str(p.value(hill_solution)))\n",
    "\n",
    "# Solve the problem using simulated annealing.\n",
    "annealing_solution = \\\n",
    "    simulated_annealing(p, exp_schedule(k=20, lam=0.005, limit=10000))\n",
    "print('\\nSimulated annealing:')\n",
    "print('\\tSolution:\\t' + str(annealing_solution))\n",
    "print('\\tValue:\\t\\t' + str(p.value(annealing_solution)))"
   ]
  },
  {
   "cell_type": "markdown",
   "metadata": {},
   "source": [
    "To generate the states, I used random generator provided. Both methods succeeded in finding the solution.\n",
    "Hill climbing did bertter in computational speed but simulated annealing did better in finding the shortest path.\n",
    "This is reasonable as hill climbing is faster but limited in local maximums."
   ]
  },
  {
   "cell_type": "markdown",
   "metadata": {},
   "source": [
    "## 1.3\n",
    "\n",
    "Two variables: room and time slot.\n",
    "Course will ensure that each course will only occur once."
   ]
  },
  {
   "cell_type": "code",
   "execution_count": 5,
   "metadata": {
    "pycharm": {
     "is_executing": false
    }
   },
   "outputs": [],
   "source": [
    "import itertools\n",
    "from csp import CSP, backtracking_search\n",
    "\n",
    "\n",
    "def course_scheduling(courseA, courses , rooms, time_slots):\n",
    "    \"\"\"Return an instance our cs course scheduling problem.\"\"\"\n",
    "    variables = courses\n",
    "    domains = {}\n",
    "    domains.fromkeys(variables)\n",
    "    for course in range(len(courses)):\n",
    "        \n",
    "        domains[courses[course]] = list(itertools.product(rooms, time_slots))\n",
    "\n",
    "    neighbors = {}\n",
    "    for course in courses:\n",
    "        neighbors[course] = [other_course for other_course in courses if other_course != course]\n",
    "\n",
    "    def course_constraint(A, a, B, b):\n",
    "        if a[1] == b[1]:\n",
    "            if a[0] == b[0]:\n",
    "                return False\n",
    "            if courseA[A] == courseA[B]:\n",
    "                return False\n",
    "        return True\n",
    "\n",
    "    return CSP(variables, domains, neighbors, course_constraint)"
   ]
  },
  {
   "cell_type": "markdown",
   "source": [],
   "metadata": {
    "collapsed": false
   }
  },
  {
   "cell_type": "code",
   "execution_count": 6,
   "outputs": [
    {
     "name": "stdout",
     "text": [
      "Backtracking Solution:\n",
      "\n",
      "{'cs108': [('nh253', 'tth900')], 'cs112': [('sb382', 'mwf900')], 'cs212': [('nh253', 'mwf1130')], 'cs214': [('sb382', 'mwf1130')], 'cs232': [('nh253', 'tth1030')], 'cs344': [('nh253', 'mwf900')]}\n"
     ],
     "output_type": "stream"
    }
   ],
   "source": [
    "courses = 'cs108 cs112 cs212 cs214 cs232 cs344'.split()\n",
    "courseA = {'cs108': 'A', 'cs112': 'B', 'cs212': 'A', 'cs214': 'B', 'cs232': 'C', 'cs344': 'D'}\n",
    "rooms = 'nh253 sb382'.split()\n",
    "time_slots = 'mwf900 mwf1130 tth900 tth1030'.split()\n",
    "p = course_scheduling( courseA ,courses, rooms, time_slots)\n",
    "back_result = backtracking_search(p)\n",
    "if p.goal_test(p.infer_assignment()):\n",
    "    print(\"Backtracking Solution:\\n\")\n",
    "    print(p.curr_domains)\n",
    "else:\n",
    "    print(\"Backtracking failed...\")\n",
    "    print(p.curr_domains)"
   ],
   "metadata": {
    "collapsed": false,
    "pycharm": {
     "name": "#%%\n",
     "is_executing": false
    }
   }
  }
 ],
 "metadata": {
  "kernelspec": {
   "display_name": "Python 3",
   "language": "python",
   "name": "python3"
  },
  "language_info": {
   "codemirror_mode": {
    "name": "ipython",
    "version": 3
   },
   "file_extension": ".py",
   "mimetype": "text/x-python",
   "name": "python",
   "nbconvert_exporter": "python",
   "pygments_lexer": "ipython3",
   "version": "3.6.6"
  },
  "pycharm": {
   "stem_cell": {
    "cell_type": "raw",
    "source": [],
    "metadata": {
     "collapsed": false
    }
   }
  }
 },
 "nbformat": 4,
 "nbformat_minor": 1
}